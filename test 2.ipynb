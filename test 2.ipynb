{
 "cells": [
  {
   "cell_type": "code",
   "execution_count": 7,
   "metadata": {},
   "outputs": [
    {
     "name": "stdout",
     "output_type": "stream",
     "text": [
      "[10, 20, [300, 400, [5000, 6000, 7000], 500], 30, 40]\n"
     ]
    }
   ],
   "source": [
    "#q1\n",
    "list1 = [10, 20, [300, 400, [5000, 6000], 500], 30, 40]\n",
    "list1[2][2].append(7000)\n",
    "print(list1)"
   ]
  },
  {
   "cell_type": "code",
   "execution_count": 31,
   "metadata": {},
   "outputs": [
    {
     "name": "stdout",
     "output_type": "stream",
     "text": [
      "1 10\n",
      "2 9\n",
      "3 8\n",
      "4 7\n",
      "5 6\n"
     ]
    }
   ],
   "source": [
    "#Q2\n",
    "l1=[1,2,3,4,5]\n",
    "l2=[6,7,8,9,10]\n",
    "l1.sort()\n",
    "l2.sort(reverse=True)\n",
    "\n",
    "for (i,j) in zip(l1,l2):\n",
    "    print(i,j)\n",
    "\n"
   ]
  },
  {
   "cell_type": "code",
   "execution_count": 28,
   "metadata": {},
   "outputs": [
    {
     "name": "stdout",
     "output_type": "stream",
     "text": [
      "['a', 'b', ['c', ['d', 'e', ['f', 'g', 'h', 'i', 'j'], 'k'], 'l'], 'm', 'n']\n"
     ]
    }
   ],
   "source": [
    "#Q3\n",
    "l1=[\"a\", \"b\", [\"c\", [\"d\", \"e\", [\"f\", \"g\"], \"k\"], \"l\"], \"m\", \"n\"]\n",
    "l2=[\"h\",\"i\",\"j\"]\n",
    "for i in l2:\n",
    "    l1[2][1][2].append(i)\n",
    "    \n",
    "print(l1)\n",
    "    "
   ]
  },
  {
   "cell_type": "code",
   "execution_count": 66,
   "metadata": {},
   "outputs": [
    {
     "name": "stdout",
     "output_type": "stream",
     "text": [
      "[['Arjun', 70, 98, 63, 77.0], ['Krishna', 67, 68, 69, 68.0], ['Malika', 52, 56, 60, 56.0]]\n"
     ]
    }
   ],
   "source": [
    "#Q4\n",
    "l1=[[\"Krishna\",67,68,69],[\"Arjun\",70,98,63],[\"Malika\",52,56,60]]\n",
    "\n",
    "for i in range(len(l1)):\n",
    "    avg=(l1[i][1]+l1[i][2]+l1[i][3])/3\n",
    "    l1[i].append(avg)\n",
    "\n",
    "def fourth_key(l):\n",
    "    return l[4]\n",
    "\n",
    "l1.sort(key=fourth_key,reverse=True)\n",
    "print(l1)\n",
    "        \n",
    "\n",
    "\n",
    "    \n",
    "\n",
    "\n"
   ]
  },
  {
   "cell_type": "code",
   "execution_count": 18,
   "metadata": {},
   "outputs": [
    {
     "name": "stdout",
     "output_type": "stream",
     "text": [
      "Enter number of elements : 6\n",
      "1\n",
      "-2\n",
      "-3\n",
      "5\n",
      "10\n",
      "9\n",
      "[1.0, 5.0, 10.0, 9.0] [-2.0, -3.0] [1.0, -3.0, 5.0, 9.0] [-2.0, 10.0] []\n",
      "4 2 4 2 0\n"
     ]
    }
   ],
   "source": [
    "#Q5\n",
    "l1=[]\n",
    "n = int(input(\"Enter number of elements : \")) \n",
    "for i in range(0, n): \n",
    "    a = float(input()) \n",
    "    l1.append(a) \n",
    "\n",
    "pos=[]\n",
    "neg=[]\n",
    "odd=[]\n",
    "even=[]\n",
    "zero=[]\n",
    "\n",
    "    \n",
    "for i in l1:\n",
    "    if i>0:\n",
    "        pos.append(i)\n",
    "    if i<0:\n",
    "        neg.append(i)\n",
    "    if i%2==0:\n",
    "        even.append(i)\n",
    "    if i%2!=0:\n",
    "        odd.append(i)\n",
    "    if i==0:\n",
    "        zero.append(i)\n",
    "print(pos,neg,odd,even,zero)\n",
    "print(len(pos),len(neg),len(odd),len(even),len(zero))\n",
    "        \n",
    "    \n"
   ]
  },
  {
   "cell_type": "code",
   "execution_count": 19,
   "metadata": {},
   "outputs": [
    {
     "name": "stdout",
     "output_type": "stream",
     "text": [
      "Enter number of elements : 6\n",
      "1\n",
      "2\n",
      "-3\n",
      "-4\n",
      "5\n",
      "6\n",
      "number to be checked5\n",
      "5 is in list\n"
     ]
    }
   ],
   "source": [
    "#Q6\n",
    "l1=[]\n",
    "n = int(input(\"Enter number of elements : \")) \n",
    "for i in range(0, n): \n",
    "    a = float(input()) \n",
    "    l1.append(a)\n",
    "n=int(input(\"number to be checked\"))\n",
    "if n in l1:\n",
    "    print(f\"{n} is in list\")\n",
    "else :\n",
    "    print(f\"{n} is not in list\")\n",
    "    "
   ]
  },
  {
   "cell_type": "code",
   "execution_count": null,
   "metadata": {},
   "outputs": [],
   "source": []
  }
 ],
 "metadata": {
  "kernelspec": {
   "display_name": "Python 3",
   "language": "python",
   "name": "python3"
  },
  "language_info": {
   "codemirror_mode": {
    "name": "ipython",
    "version": 3
   },
   "file_extension": ".py",
   "mimetype": "text/x-python",
   "name": "python",
   "nbconvert_exporter": "python",
   "pygments_lexer": "ipython3",
   "version": "3.8.3"
  }
 },
 "nbformat": 4,
 "nbformat_minor": 4
}
